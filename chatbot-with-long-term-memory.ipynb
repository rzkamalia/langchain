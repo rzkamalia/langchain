{
 "cells": [
  {
   "cell_type": "code",
   "execution_count": 4,
   "metadata": {},
   "outputs": [],
   "source": [
    "import openai\n",
    "import os\n",
    "\n",
    "from dotenv import find_dotenv, load_dotenv\n",
    "\n",
    "from langchain_core.messages import HumanMessage, SystemMessage\n",
    "from langchain_core.runnables.config import RunnableConfig\n",
    "from langchain_openai import ChatOpenAI\n",
    "\n",
    "from langgraph.checkpoint.memory import MemorySaver\n",
    "from langgraph.graph import END, MessagesState, StateGraph, START\n",
    "from langgraph.store.base import BaseStore\n",
    "from langgraph.store.memory import InMemoryStore"
   ]
  },
  {
   "cell_type": "code",
   "execution_count": 5,
   "metadata": {},
   "outputs": [],
   "source": [
    "_ = load_dotenv(find_dotenv())\n",
    "openai.api_key = os.environ['OPENAI_API_KEY']\n",
    "\n",
    "llm = ChatOpenAI(model=\"gpt-3.5-turbo\")"
   ]
  },
  {
   "cell_type": "code",
   "execution_count": 6,
   "metadata": {},
   "outputs": [],
   "source": [
    "# chatbot instruction\n",
    "MODEL_SYSTEM_MESSAGE = \"\"\"\n",
    "    You are a helpful assistant with memory that provides information about the user. \n",
    "    If you have memory for this user, use it to personalize your responses.\n",
    "    Here is the memory (it may be empty): {memory}\n",
    "\"\"\"\n",
    "\n",
    "# create new memory from the chat history and any existing memory\n",
    "CREATE_MEMORY_INSTRUCTION = \"\"\"\"\n",
    "    You are collecting information about the user to personalize your responses.\n",
    "\n",
    "    CURRENT USER INFORMATION:\n",
    "    {memory}\n",
    "\n",
    "    INSTRUCTIONS:\n",
    "    1. Review the chat history below carefully\n",
    "    2. Identify new information about the user, such as:\n",
    "        - Personal details (name, location)\n",
    "        - Preferences (likes, dislikes)\n",
    "        - Interests and hobbies\n",
    "        - Past experiences\n",
    "        - Goals or future plans\n",
    "    3. Merge any new information with existing memory\n",
    "    4. Format the memory as a clear, bulleted list\n",
    "    5. If new information conflicts with existing memory, keep the most recent version\n",
    "\n",
    "    Remember: Only include factual information directly stated by the user. Do not make assumptions or inferences.\n",
    "\n",
    "    Based on the chat history below, please update the user information:\n",
    "\"\"\"\n",
    "\n",
    "def call_model(state: MessagesState, config: RunnableConfig, store: BaseStore):\n",
    "    \"\"\"Load memory from the store and use it to personalize the chatbot's response.\n",
    "    \"\"\"\n",
    "    \n",
    "    user_id = config[\"configurable\"][\"user_id\"]\n",
    "    namespace = (\"memory\", user_id)\n",
    "    key = \"user_memory\"\n",
    "    existing_memory = store.get(namespace, key)\n",
    "\n",
    "    if existing_memory:\n",
    "        existing_memory_content = existing_memory.value.get('memory')        # value is a dictionary with a memory key\n",
    "    else:\n",
    "        existing_memory_content = \"No existing memory found.\"\n",
    "\n",
    "    # format the memory in the system prompt\n",
    "    system_msg = MODEL_SYSTEM_MESSAGE.format(memory=existing_memory_content)\n",
    "    \n",
    "    # respond using memory as well as the chat history\n",
    "    response = llm.invoke([SystemMessage(content=system_msg)]+state[\"messages\"])\n",
    "\n",
    "    return {\"messages\": response}\n",
    "\n",
    "def write_memory(state: MessagesState, config: RunnableConfig, store: BaseStore):\n",
    "    \"\"\"Reflect on the chat history and save a memory to the store.\n",
    "    \"\"\"\n",
    "    \n",
    "    user_id = config[\"configurable\"][\"user_id\"]\n",
    "    namespace = (\"memory\", user_id)\n",
    "    existing_memory = store.get(namespace, \"user_memory\")\n",
    "        \n",
    "    if existing_memory:\n",
    "        existing_memory_content = existing_memory.value.get('memory')\n",
    "    else:\n",
    "        existing_memory_content = \"No existing memory found.\"\n",
    "\n",
    "    system_msg = CREATE_MEMORY_INSTRUCTION.format(memory=existing_memory_content)\n",
    "    new_memory = llm.invoke([SystemMessage(content=system_msg)]+state['messages'])\n",
    "\n",
    "    # overwrite the existing memory in the store \n",
    "    key = \"user_memory\"\n",
    "\n",
    "    # write value as a dictionary with a memory key\n",
    "    store.put(namespace, key, {\"memory\": new_memory.content})"
   ]
  },
  {
   "cell_type": "code",
   "execution_count": 7,
   "metadata": {},
   "outputs": [],
   "source": [
    "\n",
    "graph = StateGraph(MessagesState)\n",
    "graph.add_node(\"call_model\", call_model)\n",
    "graph.add_node(\"write_memory\", write_memory)\n",
    "graph.add_edge(START, \"call_model\")\n",
    "graph.add_edge(\"call_model\", \"write_memory\")\n",
    "graph.add_edge(\"write_memory\", END)\n",
    "\n",
    "# store for across-thread memory\n",
    "across_thread_memory = InMemoryStore()\n",
    "\n",
    "# checkpointer for within-thread memory\n",
    "within_thread_memory = MemorySaver()\n",
    "\n",
    "# compile the graph with the checkpointer fir and store\n",
    "graph = graph.compile(checkpointer=within_thread_memory, store=across_thread_memory)"
   ]
  },
  {
   "cell_type": "code",
   "execution_count": 8,
   "metadata": {},
   "outputs": [
    {
     "name": "stdout",
     "output_type": "stream",
     "text": [
      "================================\u001b[1m Human Message \u001b[0m=================================\n",
      "\n",
      "Hi, my name is Yoona\n",
      "==================================\u001b[1m Ai Message \u001b[0m==================================\n",
      "\n",
      "Hello Yoona! It's nice to meet you. How can I assist you today?\n"
     ]
    }
   ],
   "source": [
    "# when we interact with the chatbot, we supply two things:\n",
    "# within-thread memory: a thread ID for persisting the chat history.\n",
    "# cross-thread memory: a user ID to namespace long-term memories to the user.\n",
    "config = {\"configurable\": {\"thread_id\": \"1\", \"user_id\": \"1\"}}\n",
    "\n",
    "input_messages = [HumanMessage(content=\"Hi, my name is Yoona\")]\n",
    "for chunk in graph.stream({\"messages\": input_messages}, config, stream_mode=\"values\"):\n",
    "    chunk[\"messages\"][-1].pretty_print()"
   ]
  },
  {
   "cell_type": "code",
   "execution_count": 9,
   "metadata": {},
   "outputs": [
    {
     "name": "stdout",
     "output_type": "stream",
     "text": [
      "================================\u001b[1m Human Message \u001b[0m=================================\n",
      "\n",
      "I love super junior so much\n",
      "==================================\u001b[1m Ai Message \u001b[0m==================================\n",
      "\n",
      "That's great to hear! Super Junior is a popular K-pop group with a dedicated fan base. What do you love most about them?\n"
     ]
    }
   ],
   "source": [
    "input_messages = [HumanMessage(content=\"I love super junior so much\")]\n",
    "for chunk in graph.stream({\"messages\": input_messages}, config, stream_mode=\"values\"):\n",
    "    chunk[\"messages\"][-1].pretty_print()"
   ]
  },
  {
   "cell_type": "code",
   "execution_count": 10,
   "metadata": {},
   "outputs": [
    {
     "name": "stdout",
     "output_type": "stream",
     "text": [
      "================================\u001b[1m Human Message \u001b[0m=================================\n",
      "\n",
      "Hi, my name is Yoona\n",
      "==================================\u001b[1m Ai Message \u001b[0m==================================\n",
      "\n",
      "Hello Yoona! It's nice to meet you. How can I assist you today?\n",
      "================================\u001b[1m Human Message \u001b[0m=================================\n",
      "\n",
      "I love super junior so much\n",
      "==================================\u001b[1m Ai Message \u001b[0m==================================\n",
      "\n",
      "That's great to hear! Super Junior is a popular K-pop group with a dedicated fan base. What do you love most about them?\n"
     ]
    }
   ],
   "source": [
    "# we using the MemorySaver checkpointer for within-thread memory. \n",
    "# this saves the chat history to the thread. \n",
    "# we can look at the chat history saved to the thread.\n",
    "thread = {\"configurable\": {\"thread_id\": \"1\"}}\n",
    "state = graph.get_state(thread).values\n",
    "for m in state[\"messages\"]: \n",
    "    m.pretty_print()"
   ]
  },
  {
   "cell_type": "code",
   "execution_count": 11,
   "metadata": {},
   "outputs": [
    {
     "data": {
      "text/plain": [
       "{'value': {'memory': '**USER INFORMATION:**\\n- Name: Yoona\\n- Interest: Loves Super Junior'},\n",
       " 'key': 'user_memory',\n",
       " 'namespace': ['memory', '1'],\n",
       " 'created_at': '2025-01-01T08:26:54.239352+00:00',\n",
       " 'updated_at': '2025-01-01T08:26:54.239357+00:00'}"
      ]
     },
     "execution_count": 11,
     "metadata": {},
     "output_type": "execute_result"
    }
   ],
   "source": [
    "user_id = \"1\"\n",
    "namespace = (\"memory\", user_id)\n",
    "existing_memory = across_thread_memory.get(namespace, \"user_memory\")\n",
    "existing_memory.dict()"
   ]
  },
  {
   "cell_type": "code",
   "execution_count": 12,
   "metadata": {},
   "outputs": [
    {
     "name": "stdout",
     "output_type": "stream",
     "text": [
      "================================\u001b[1m Human Message \u001b[0m=================================\n",
      "\n",
      "Hi! who do i like?\n",
      "==================================\u001b[1m Ai Message \u001b[0m==================================\n",
      "\n",
      "Hi Yoona! You love Super Junior! If you have any specific questions or need more information about Super Junior, feel free to ask!\n"
     ]
    }
   ],
   "source": [
    "# we should see that the chatbot remembered the user's profile and used it to personalize the response.\n",
    "# we supply a user ID for across-thread memory as well as a new thread ID\n",
    "config = {\"configurable\": {\"thread_id\": \"2\", \"user_id\": \"1\"}}\n",
    "\n",
    "input_messages = [HumanMessage(content=\"Hi! who do i like?\")]\n",
    "for chunk in graph.stream({\"messages\": input_messages}, config, stream_mode=\"values\"):\n",
    "    chunk[\"messages\"][-1].pretty_print()\n"
   ]
  },
  {
   "cell_type": "code",
   "execution_count": null,
   "metadata": {},
   "outputs": [],
   "source": []
  }
 ],
 "metadata": {
  "kernelspec": {
   "display_name": "langchain-venv",
   "language": "python",
   "name": "python3"
  },
  "language_info": {
   "codemirror_mode": {
    "name": "ipython",
    "version": 3
   },
   "file_extension": ".py",
   "mimetype": "text/x-python",
   "name": "python",
   "nbconvert_exporter": "python",
   "pygments_lexer": "ipython3",
   "version": "3.12.2"
  }
 },
 "nbformat": 4,
 "nbformat_minor": 2
}
