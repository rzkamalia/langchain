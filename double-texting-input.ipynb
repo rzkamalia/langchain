{
 "cells": [
  {
   "cell_type": "code",
   "execution_count": 1,
   "metadata": {},
   "outputs": [],
   "source": [
    "import asyncio\n",
    "import httpx\n",
    "\n",
    "from langchain_core.messages import convert_to_messages, HumanMessage\n",
    "\n",
    "from langgraph_sdk import get_client"
   ]
  },
  {
   "cell_type": "code",
   "execution_count": 2,
   "metadata": {},
   "outputs": [],
   "source": [
    "url_for_cli_deployment = \"http://localhost:8123\"\n",
    "client = get_client(url=url_for_cli_deployment)"
   ]
  },
  {
   "cell_type": "markdown",
   "metadata": {},
   "source": [
    "### Reject"
   ]
  },
  {
   "cell_type": "code",
   "execution_count": 3,
   "metadata": {},
   "outputs": [
    {
     "name": "stdout",
     "output_type": "stream",
     "text": [
      "Failed to start concurrent run Client error '409 Conflict' for url 'http://localhost:8123/threads/94a68c02-e01b-4f11-8541-de77d0bd0952/runs'\n",
      "For more information check: https://developer.mozilla.org/en-US/docs/Web/HTTP/Status/409\n",
      "================================\u001b[1m Human Message \u001b[0m=================================\n",
      "\n",
      "Add a ToDo to follow-up with DI Repairs.\n",
      "==================================\u001b[1m Ai Message \u001b[0m==================================\n",
      "\n",
      "The task \"Follow-up with DI Repairs\" is already on your ToDo list. Is there anything else you would like to add or update?\n"
     ]
    }
   ],
   "source": [
    "# create a thread\n",
    "thread = await client.threads.create()\n",
    "\n",
    "# create to dos\n",
    "user_input_1 = \"Add a ToDo to follow-up with DI Repairs.\"\n",
    "user_input_2 = \"Add a ToDo to mount dresser to the wall.\"\n",
    "config = {\"configurable\": {\"user_id\": \"Test-Double-Texting\"}}\n",
    "graph_name = \"task_maistro\" \n",
    "\n",
    "run = await client.runs.create(\n",
    "    thread[\"thread_id\"],\n",
    "    graph_name,\n",
    "    input={\"messages\": [HumanMessage(content=user_input_1)]}, \n",
    "    config=config,\n",
    ")\n",
    "try:\n",
    "    await client.runs.create(\n",
    "        thread[\"thread_id\"],\n",
    "        graph_name,\n",
    "        input={\"messages\": [HumanMessage(content=user_input_2)]}, \n",
    "        config=config,\n",
    "        multitask_strategy=\"reject\",\n",
    "    )\n",
    "except httpx.HTTPStatusError as e:\n",
    "    print(\"Failed to start concurrent run\", e)\n",
    "\n",
    "# wait until the original run completes\n",
    "await client.runs.join(thread[\"thread_id\"], run[\"run_id\"])\n",
    "\n",
    "# get the state of the thread\n",
    "state = await client.threads.get_state(thread[\"thread_id\"])\n",
    "for m in convert_to_messages(state[\"values\"][\"messages\"]):\n",
    "    m.pretty_print()"
   ]
  },
  {
   "cell_type": "markdown",
   "metadata": {},
   "source": [
    "### Enqueue"
   ]
  },
  {
   "cell_type": "code",
   "execution_count": 4,
   "metadata": {},
   "outputs": [
    {
     "name": "stdout",
     "output_type": "stream",
     "text": [
      "================================\u001b[1m Human Message \u001b[0m=================================\n",
      "\n",
      "Send Erik his t-shirt gift this weekend.\n",
      "==================================\u001b[1m Ai Message \u001b[0m==================================\n",
      "Tool Calls:\n",
      "  UpdateMemory (call_M1lBhZ4JJskOCTVZwV2pStNJ)\n",
      " Call ID: call_M1lBhZ4JJskOCTVZwV2pStNJ\n",
      "  Args:\n",
      "    update_type: todo\n",
      "=================================\u001b[1m Tool Message \u001b[0m=================================\n",
      "\n",
      "Document 10522f38-6f0f-46ad-9f0e-dd53bea82fe5 updated:\n",
      "Plan: Update the deadline for sending Erik his t-shirt gift to this weekend, which is January 7, 2025.\n",
      "Added content: 2025-01-07T23:59:59\n",
      "\n",
      "Document 10522f38-6f0f-46ad-9f0e-dd53bea82fe5 updated:\n",
      "Plan: Change the status of the task to 'in progress' as the user intends to send the gift this weekend.\n",
      "Added content: in progress\n",
      "==================================\u001b[1m Ai Message \u001b[0m==================================\n",
      "\n",
      "I've updated the deadline for sending Erik his t-shirt gift to this weekend, January 7, 2025. The task is now marked as \"in progress.\"\n",
      "================================\u001b[1m Human Message \u001b[0m=================================\n",
      "\n",
      "Get cash and pay nanny for 2 weeks. Do this by Friday.\n",
      "==================================\u001b[1m Ai Message \u001b[0m==================================\n",
      "Tool Calls:\n",
      "  UpdateMemory (call_aQnckjXn8ekfAJAd0qqFEHs4)\n",
      " Call ID: call_aQnckjXn8ekfAJAd0qqFEHs4\n",
      "  Args:\n",
      "    update_type: todo\n",
      "=================================\u001b[1m Tool Message \u001b[0m=================================\n",
      "\n",
      "Document 957c527e-ba75-437a-be9b-937f1bed5d19 updated:\n",
      "Plan: Update the deadline for getting cash and paying the nanny to Friday, January 3, 2025.\n",
      "Added content: 2025-01-03T23:59:59\n",
      "==================================\u001b[1m Ai Message \u001b[0m==================================\n",
      "\n",
      "I've updated the deadline for getting cash and paying the nanny to this Friday, January 3, 2025.\n"
     ]
    }
   ],
   "source": [
    "thread = await client.threads.create()\n",
    "\n",
    "user_input_1 = \"Send Erik his t-shirt gift this weekend.\"\n",
    "user_input_2 = \"Get cash and pay nanny for 2 weeks. Do this by Friday.\"\n",
    "config = {\"configurable\": {\"user_id\": \"Test-Double-Texting\"}}\n",
    "graph_name = \"task_maistro\" \n",
    "\n",
    "first_run = await client.runs.create(\n",
    "    thread[\"thread_id\"],\n",
    "    graph_name,\n",
    "    input={\"messages\": [HumanMessage(content=user_input_1)]}, \n",
    "    config=config,\n",
    ")\n",
    "\n",
    "second_run = await client.runs.create(\n",
    "    thread[\"thread_id\"],\n",
    "    graph_name,\n",
    "    input={\"messages\": [HumanMessage(content=user_input_2)]}, \n",
    "    config=config,\n",
    "    multitask_strategy=\"enqueue\",\n",
    ")\n",
    "\n",
    "# wait until the second run completes\n",
    "await client.runs.join(thread[\"thread_id\"], second_run[\"run_id\"])\n",
    "\n",
    "# get the state of the thread\n",
    "state = await client.threads.get_state(thread[\"thread_id\"])\n",
    "for m in convert_to_messages(state[\"values\"][\"messages\"]):\n",
    "    m.pretty_print()"
   ]
  },
  {
   "cell_type": "markdown",
   "metadata": {},
   "source": [
    "### Interrupt"
   ]
  },
  {
   "cell_type": "code",
   "execution_count": 5,
   "metadata": {},
   "outputs": [
    {
     "name": "stdout",
     "output_type": "stream",
     "text": [
      "================================\u001b[1m Human Message \u001b[0m=================================\n",
      "\n",
      "Give me a summary of my ToDos due tomrrow.\n",
      "================================\u001b[1m Human Message \u001b[0m=================================\n",
      "\n",
      "Never mind, create a ToDo to Order Ham for Thanksgiving by next Friday.\n",
      "==================================\u001b[1m Ai Message \u001b[0m==================================\n",
      "\n",
      "You already have a task to \"Order Ham for Thanksgiving\" with a deadline of January 10, 2025. Would you like to update the deadline to next Friday instead?\n"
     ]
    }
   ],
   "source": [
    "thread = await client.threads.create()\n",
    "\n",
    "user_input_1 = \"Give me a summary of my ToDos due tomrrow.\"\n",
    "user_input_2 = \"Never mind, create a ToDo to Order Ham for Thanksgiving by next Friday.\"\n",
    "config = {\"configurable\": {\"user_id\": \"Test-Double-Texting\"}}\n",
    "graph_name = \"task_maistro\" \n",
    "\n",
    "interrupted_run = await client.runs.create(\n",
    "    thread[\"thread_id\"],\n",
    "    graph_name,\n",
    "    input={\"messages\": [HumanMessage(content=user_input_1)]}, \n",
    "    config=config,\n",
    ")\n",
    "\n",
    "# wait for some of run 1 to complete so that we can see it in the thread \n",
    "await asyncio.sleep(1)\n",
    "\n",
    "second_run = await client.runs.create(\n",
    "    thread[\"thread_id\"],\n",
    "    graph_name,\n",
    "    input={\"messages\": [HumanMessage(content=user_input_2)]}, \n",
    "    config=config,\n",
    "    multitask_strategy=\"interrupt\",\n",
    ")\n",
    "\n",
    "# wait until the second run completes\n",
    "await client.runs.join(thread[\"thread_id\"], second_run[\"run_id\"])\n",
    "\n",
    "# get the state of the thread\n",
    "state = await client.threads.get_state(thread[\"thread_id\"])\n",
    "for m in convert_to_messages(state[\"values\"][\"messages\"]):\n",
    "    m.pretty_print()"
   ]
  },
  {
   "cell_type": "code",
   "execution_count": 6,
   "metadata": {},
   "outputs": [
    {
     "name": "stdout",
     "output_type": "stream",
     "text": [
      "interrupted\n"
     ]
    }
   ],
   "source": [
    "# confirm that the first run was interrupted\n",
    "print((await client.runs.get(thread[\"thread_id\"], interrupted_run[\"run_id\"]))[\"status\"])"
   ]
  },
  {
   "cell_type": "markdown",
   "metadata": {},
   "source": [
    "### Rollback"
   ]
  },
  {
   "cell_type": "code",
   "execution_count": 7,
   "metadata": {},
   "outputs": [
    {
     "name": "stdout",
     "output_type": "stream",
     "text": [
      "================================\u001b[1m Human Message \u001b[0m=================================\n",
      "\n",
      "Actually, add a ToDo to drop by Yoga in person on Sunday.\n",
      "==================================\u001b[1m Ai Message \u001b[0m==================================\n",
      "\n",
      "It looks like the task \"Drop by Yoga in person on Sunday\" is already on your ToDo list. Is there anything else you'd like to add or modify?\n"
     ]
    }
   ],
   "source": [
    "thread = await client.threads.create()\n",
    "\n",
    "user_input_1 = \"Add a ToDo to call to make appointment at Yoga.\"\n",
    "user_input_2 = \"Actually, add a ToDo to drop by Yoga in person on Sunday.\"\n",
    "config = {\"configurable\": {\"user_id\": \"Test-Double-Texting\"}}\n",
    "graph_name = \"task_maistro\" \n",
    "\n",
    "rolled_back_run = await client.runs.create(\n",
    "    thread[\"thread_id\"],\n",
    "    graph_name,\n",
    "    input={\"messages\": [HumanMessage(content=user_input_1)]}, \n",
    "    config=config,\n",
    ")\n",
    "\n",
    "second_run = await client.runs.create(\n",
    "    thread[\"thread_id\"],\n",
    "    graph_name,\n",
    "    input={\"messages\": [HumanMessage(content=user_input_2)]}, \n",
    "    config=config,\n",
    "    multitask_strategy=\"rollback\",\n",
    ")\n",
    "\n",
    "# wait until the second run completes\n",
    "await client.runs.join(thread[\"thread_id\"], second_run[\"run_id\"])\n",
    "\n",
    "# get the state of the thread\n",
    "state = await client.threads.get_state(thread[\"thread_id\"])\n",
    "for m in convert_to_messages(state[\"values\"][\"messages\"]):\n",
    "    m.pretty_print()"
   ]
  },
  {
   "cell_type": "code",
   "execution_count": 8,
   "metadata": {},
   "outputs": [
    {
     "name": "stdout",
     "output_type": "stream",
     "text": [
      "Original run was correctly deleted\n"
     ]
    }
   ],
   "source": [
    "# confirm that the original run was deleted\n",
    "try:\n",
    "    await client.runs.get(thread[\"thread_id\"], rolled_back_run[\"run_id\"])\n",
    "except httpx.HTTPStatusError as _:\n",
    "    print(\"Original run was correctly deleted\")"
   ]
  },
  {
   "cell_type": "code",
   "execution_count": null,
   "metadata": {},
   "outputs": [],
   "source": []
  }
 ],
 "metadata": {
  "kernelspec": {
   "display_name": "langchain-venv",
   "language": "python",
   "name": "python3"
  },
  "language_info": {
   "codemirror_mode": {
    "name": "ipython",
    "version": 3
   },
   "file_extension": ".py",
   "mimetype": "text/x-python",
   "name": "python",
   "nbconvert_exporter": "python",
   "pygments_lexer": "ipython3",
   "version": "3.12.2"
  }
 },
 "nbformat": 4,
 "nbformat_minor": 2
}
